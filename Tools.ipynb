{
 "cells": [
  {
   "cell_type": "markdown",
   "metadata": {},
   "source": [
    "## OPEN AI  API- TOOLS"
   ]
  },
  {
   "cell_type": "code",
   "execution_count": null,
   "metadata": {},
   "outputs": [],
   "source": [
    "#!pip install openai"
   ]
  },
  {
   "cell_type": "code",
   "execution_count": 1,
   "metadata": {},
   "outputs": [
    {
     "name": "stderr",
     "output_type": "stream",
     "text": [
      "/Users/catalinaramos/opt/anaconda3/lib/python3.8/site-packages/pandas/core/computation/expressions.py:21: UserWarning: Pandas requires version '2.7.3' or newer of 'numexpr' (version '2.7.1' currently installed).\n",
      "  from pandas.core.computation.check import NUMEXPR_INSTALLED\n"
     ]
    }
   ],
   "source": [
    "import openai\n",
    "import os \n",
    "import pandas as pd"
   ]
  },
  {
   "cell_type": "code",
   "execution_count": 2,
   "metadata": {},
   "outputs": [],
   "source": [
    "#Key\n",
    "os.environ[\"OPENAI_API_KEY\"]=\"XXX\"\n",
    "openai.api_key=os.getenv(\"OPENAI_API_KEY\")"
   ]
  },
  {
   "cell_type": "markdown",
   "metadata": {},
   "source": [
    "#  1: Sentiment Analysis \n",
    "\n",
    "About the dataset:\n",
    "https://www.kaggle.com/datasets/odins0n/top-20-play-store-app-reviews-daily-update\n",
    "Kaggle dataset: Top 20 Play Store App Reviews (Daily Update). The Dataset consists of 10000 latest reviews from the Top 20 apps on the Google Play Store. Out of the 20 apps I chose the Instagram dataset. \n",
    "\n",
    "I previously processed the data, so I will only work with a data frame with 20 randomly selected reviews. This exercise focuses on seeing the application of OpenAI´s models rather than spending time on working with big datasets, data engineering or data processing.\n",
    "\n",
    "\n",
    "GPT Model: text davinci"
   ]
  },
  {
   "cell_type": "markdown",
   "metadata": {},
   "source": [
    "STEP 1: read csv file as pandas data frame and create new list with the \"content\" column "
   ]
  },
  {
   "cell_type": "code",
   "execution_count": 127,
   "metadata": {},
   "outputs": [
    {
     "data": {
      "text/html": [
       "<div>\n",
       "<style scoped>\n",
       "    .dataframe tbody tr th:only-of-type {\n",
       "        vertical-align: middle;\n",
       "    }\n",
       "\n",
       "    .dataframe tbody tr th {\n",
       "        vertical-align: top;\n",
       "    }\n",
       "\n",
       "    .dataframe thead th {\n",
       "        text-align: right;\n",
       "    }\n",
       "</style>\n",
       "<table border=\"1\" class=\"dataframe\">\n",
       "  <thead>\n",
       "    <tr style=\"text-align: right;\">\n",
       "      <th></th>\n",
       "      <th>content</th>\n",
       "      <th>score</th>\n",
       "    </tr>\n",
       "  </thead>\n",
       "  <tbody>\n",
       "    <tr>\n",
       "      <th>0</th>\n",
       "      <td>Lovely</td>\n",
       "      <td>5</td>\n",
       "    </tr>\n",
       "    <tr>\n",
       "      <th>1</th>\n",
       "      <td>Poor quality</td>\n",
       "      <td>1</td>\n",
       "    </tr>\n",
       "    <tr>\n",
       "      <th>2</th>\n",
       "      <td>The app is cool. I'll rate it 9/10 easy</td>\n",
       "      <td>5</td>\n",
       "    </tr>\n",
       "    <tr>\n",
       "      <th>3</th>\n",
       "      <td>I absolutely love Instagram it's the GOAT in s...</td>\n",
       "      <td>5</td>\n",
       "    </tr>\n",
       "    <tr>\n",
       "      <th>4</th>\n",
       "      <td>Very useless application for the phone</td>\n",
       "      <td>1</td>\n",
       "    </tr>\n",
       "    <tr>\n",
       "      <th>5</th>\n",
       "      <td>Latest update causes freezing and keeps switch...</td>\n",
       "      <td>2</td>\n",
       "    </tr>\n",
       "    <tr>\n",
       "      <th>6</th>\n",
       "      <td>cannot get the new updates the music feature</td>\n",
       "      <td>1</td>\n",
       "    </tr>\n",
       "    <tr>\n",
       "      <th>7</th>\n",
       "      <td>Keeps reverting to light mode even after I've ...</td>\n",
       "      <td>2</td>\n",
       "    </tr>\n",
       "    <tr>\n",
       "      <th>8</th>\n",
       "      <td>I hate this app, it is horrible</td>\n",
       "      <td>4</td>\n",
       "    </tr>\n",
       "    <tr>\n",
       "      <th>9</th>\n",
       "      <td>Most important aap please viral my video</td>\n",
       "      <td>5</td>\n",
       "    </tr>\n",
       "    <tr>\n",
       "      <th>10</th>\n",
       "      <td>Idiot app, update is only not working</td>\n",
       "      <td>3</td>\n",
       "    </tr>\n",
       "    <tr>\n",
       "      <th>11</th>\n",
       "      <td>I can't do swipe chat or react on DMs ... I ha...</td>\n",
       "      <td>1</td>\n",
       "    </tr>\n",
       "    <tr>\n",
       "      <th>12</th>\n",
       "      <td>Trying to post multiple photos is a hassle. I'...</td>\n",
       "      <td>1</td>\n",
       "    </tr>\n",
       "    <tr>\n",
       "      <th>13</th>\n",
       "      <td>It's not working sometimes it doesn't open and...</td>\n",
       "      <td>2</td>\n",
       "    </tr>\n",
       "    <tr>\n",
       "      <th>14</th>\n",
       "      <td>This app is bad .because this page is not refr...</td>\n",
       "      <td>2</td>\n",
       "    </tr>\n",
       "    <tr>\n",
       "      <th>15</th>\n",
       "      <td>Very nice</td>\n",
       "      <td>5</td>\n",
       "    </tr>\n",
       "    <tr>\n",
       "      <th>16</th>\n",
       "      <td>App won't even open. Tried uninstalling and re...</td>\n",
       "      <td>1</td>\n",
       "    </tr>\n",
       "    <tr>\n",
       "      <th>17</th>\n",
       "      <td>I lost my phone and I can't remember my passwo...</td>\n",
       "      <td>1</td>\n",
       "    </tr>\n",
       "    <tr>\n",
       "      <th>18</th>\n",
       "      <td>Good experience</td>\n",
       "      <td>5</td>\n",
       "    </tr>\n",
       "    <tr>\n",
       "      <th>19</th>\n",
       "      <td>It's good for the past year. But recently I ha...</td>\n",
       "      <td>4</td>\n",
       "    </tr>\n",
       "  </tbody>\n",
       "</table>\n",
       "</div>"
      ],
      "text/plain": [
       "                                              content  score\n",
       "0                                              Lovely      5\n",
       "1                                        Poor quality      1\n",
       "2             The app is cool. I'll rate it 9/10 easy      5\n",
       "3   I absolutely love Instagram it's the GOAT in s...      5\n",
       "4              Very useless application for the phone      1\n",
       "5   Latest update causes freezing and keeps switch...      2\n",
       "6        cannot get the new updates the music feature      1\n",
       "7   Keeps reverting to light mode even after I've ...      2\n",
       "8                     I hate this app, it is horrible      4\n",
       "9            Most important aap please viral my video      5\n",
       "10              Idiot app, update is only not working      3\n",
       "11  I can't do swipe chat or react on DMs ... I ha...      1\n",
       "12  Trying to post multiple photos is a hassle. I'...      1\n",
       "13  It's not working sometimes it doesn't open and...      2\n",
       "14  This app is bad .because this page is not refr...      2\n",
       "15                                          Very nice      5\n",
       "16  App won't even open. Tried uninstalling and re...      1\n",
       "17  I lost my phone and I can't remember my passwo...      1\n",
       "18                                    Good experience      5\n",
       "19  It's good for the past year. But recently I ha...      4"
      ]
     },
     "execution_count": 127,
     "metadata": {},
     "output_type": "execute_result"
    }
   ],
   "source": [
    "#Open CSV file \n",
    "df = pd.read_csv('instagram.csv')\n",
    "df.head(20)"
   ]
  },
  {
   "cell_type": "code",
   "execution_count": 25,
   "metadata": {},
   "outputs": [],
   "source": [
    "df=df.astype(\"str\")"
   ]
  },
  {
   "cell_type": "code",
   "execution_count": 128,
   "metadata": {},
   "outputs": [
    {
     "name": "stdout",
     "output_type": "stream",
     "text": [
      "<class 'pandas.core.frame.DataFrame'>\n",
      "RangeIndex: 22 entries, 0 to 21\n",
      "Data columns (total 2 columns):\n",
      " #   Column   Non-Null Count  Dtype \n",
      "---  ------   --------------  ----- \n",
      " 0   content  22 non-null     object\n",
      " 1   score    22 non-null     int64 \n",
      "dtypes: int64(1), object(1)\n",
      "memory usage: 480.0+ bytes\n"
     ]
    }
   ],
   "source": [
    "df.info()"
   ]
  },
  {
   "cell_type": "code",
   "execution_count": 155,
   "metadata": {},
   "outputs": [
    {
     "data": {
      "text/plain": [
       "['Lovely',\n",
       " 'Poor quality',\n",
       " \"The app is cool. I'll rate it 9/10 easy\",\n",
       " \"I absolutely love Instagram it's the GOAT in social media sites\",\n",
       " 'Very useless application for the phone',\n",
       " 'Latest update causes freezing and keeps switching between dark and light mode.',\n",
       " 'cannot get the new updates the music feature',\n",
       " \"Keeps reverting to light mode even after I've set app settings to dark mode. Have to close out app to fix. I'm tired of seeing an ad first every single time I open the app. I want to see the people I follow, not ads. Hate new photo sharing format in chats. Annoying how it's displayed as a cluster when sending more than 1 at a time.\",\n",
       " 'I hate this app, it is horrible',\n",
       " 'Most important aap please viral my video',\n",
       " 'Idiot app, update is only not working',\n",
       " \"I can't do swipe chat or react on DMs ... I have reinstalled many times and even report to Instagram still there is no update\",\n",
       " \"Trying to post multiple photos is a hassle. I'll center a photo and move on to the next one, but when I go back to look at all the photos (to see if they're centered cotrectly), the photos have moved and there is a black vertical space on the left side. It's gotten to the point where I no longer want to post photos on a photo sharing app.\",\n",
       " \"It's not working sometimes it doesn't open and in between closes tooooo. Please check and correct it.\",\n",
       " 'This app is bad .because this page is not refresing',\n",
       " 'Very nice',\n",
       " \"App won't even open. Tried uninstalling and reinstalling and didn't help.\",\n",
       " \"I lost my phone and I can't remember my password.please help me in recovering my account.i need to change my password and change my number.Please help me.i am trying to see if other option is there for recovery in instagram but no other option is there.I am really disappointed from Instagram.They should have an option for recovering an account who have lost phone\",\n",
       " 'Good experience',\n",
       " \"It's good for the past year. But recently I have this bug problem it's that whenever I have 3 accounts and specifically try to log in my other accounts it keeps buffering, I press cancel it just closes the app and the worst part it says refresh but it's the same old thing. Pls fix this bug pls I have to uninstall again when I have to Log out to my other account\",\n",
       " 'The dark mode keeps turning off every time I leave the app every since this new update',\n",
       " 'Good and intersting']"
      ]
     },
     "execution_count": 155,
     "metadata": {},
     "output_type": "execute_result"
    }
   ],
   "source": [
    "#reviews \n",
    "review= df[\"content\"]\n",
    "review=review.tolist()\n",
    "review"
   ]
  },
  {
   "cell_type": "markdown",
   "metadata": {},
   "source": [
    "STEP 2: Create a dictionary (required format)"
   ]
  },
  {
   "cell_type": "code",
   "execution_count": 156,
   "metadata": {},
   "outputs": [
    {
     "data": {
      "text/plain": [
       "'[0, 1, 2, 3, 4, 5, 6, 7, 8, 9, 10, 11, 12, 13, 14, 15, 16, 17, 18, 19, 20, 21]'"
      ]
     },
     "execution_count": 156,
     "metadata": {},
     "output_type": "execute_result"
    }
   ],
   "source": [
    "#list of keys\n",
    "keys= list(range(0,22))\n",
    "str(keys)"
   ]
  },
  {
   "cell_type": "code",
   "execution_count": 169,
   "metadata": {},
   "outputs": [
    {
     "data": {
      "text/plain": [
       "{0: 'Lovely',\n",
       " 1: 'Poor quality',\n",
       " 2: \"The app is cool. I'll rate it 9/10 easy\",\n",
       " 3: \"I absolutely love Instagram it's the GOAT in social media sites\",\n",
       " 4: 'Very useless application for the phone',\n",
       " 5: 'Latest update causes freezing and keeps switching between dark and light mode.',\n",
       " 6: 'cannot get the new updates the music feature',\n",
       " 7: \"Keeps reverting to light mode even after I've set app settings to dark mode. Have to close out app to fix. I'm tired of seeing an ad first every single time I open the app. I want to see the people I follow, not ads. Hate new photo sharing format in chats. Annoying how it's displayed as a cluster when sending more than 1 at a time.\",\n",
       " 8: 'I hate this app, it is horrible',\n",
       " 9: 'Most important aap please viral my video',\n",
       " 10: 'Idiot app, update is only not working',\n",
       " 11: \"I can't do swipe chat or react on DMs ... I have reinstalled many times and even report to Instagram still there is no update\",\n",
       " 12: \"Trying to post multiple photos is a hassle. I'll center a photo and move on to the next one, but when I go back to look at all the photos (to see if they're centered cotrectly), the photos have moved and there is a black vertical space on the left side. It's gotten to the point where I no longer want to post photos on a photo sharing app.\",\n",
       " 13: \"It's not working sometimes it doesn't open and in between closes tooooo. Please check and correct it.\",\n",
       " 14: 'This app is bad .because this page is not refresing',\n",
       " 15: 'Very nice',\n",
       " 16: \"App won't even open. Tried uninstalling and reinstalling and didn't help.\",\n",
       " 17: \"I lost my phone and I can't remember my password.please help me in recovering my account.i need to change my password and change my number.Please help me.i am trying to see if other option is there for recovery in instagram but no other option is there.I am really disappointed from Instagram.They should have an option for recovering an account who have lost phone\",\n",
       " 18: 'Good experience',\n",
       " 19: \"It's good for the past year. But recently I have this bug problem it's that whenever I have 3 accounts and specifically try to log in my other accounts it keeps buffering, I press cancel it just closes the app and the worst part it says refresh but it's the same old thing. Pls fix this bug pls I have to uninstall again when I have to Log out to my other account\",\n",
       " 20: 'The dark mode keeps turning off every time I leave the app every since this new update',\n",
       " 21: 'Good and intersting'}"
      ]
     },
     "execution_count": 169,
     "metadata": {},
     "output_type": "execute_result"
    }
   ],
   "source": [
    "#dictionary\n",
    "review_dictionary = dict(zip( keys,review))\n",
    "review_dictionary"
   ]
  },
  {
   "cell_type": "code",
   "execution_count": 170,
   "metadata": {},
   "outputs": [
    {
     "data": {
      "text/plain": [
       "dict"
      ]
     },
     "execution_count": 170,
     "metadata": {},
     "output_type": "execute_result"
    }
   ],
   "source": [
    "type(review_dictionary)"
   ]
  },
  {
   "cell_type": "markdown",
   "metadata": {},
   "source": [
    "STEP 3: Prompt and API call"
   ]
  },
  {
   "cell_type": "code",
   "execution_count": 171,
   "metadata": {},
   "outputs": [],
   "source": [
    "#function with the prompt\n",
    "def create_prompt(review_dictionary):\n",
    "\n",
    "    task = \"classify the sentiment\\n\\n\"\n",
    "    return task + review_dictionary"
   ]
  },
  {
   "cell_type": "code",
   "execution_count": 172,
   "metadata": {},
   "outputs": [
    {
     "name": "stdout",
     "output_type": "stream",
     "text": [
      "classify the sentiment\n",
      "\n",
      "Poor quality\n"
     ]
    }
   ],
   "source": [
    "#lets try the function\n",
    "prompt = create_prompt(review_dictionary[1])\n",
    "print(prompt)"
   ]
  },
  {
   "cell_type": "code",
   "execution_count": 173,
   "metadata": {},
   "outputs": [
    {
     "name": "stdout",
     "output_type": "stream",
     "text": [
      "Lovely\n",
      "Sentiment Report: : Positive\n",
      "------------------------------\n",
      "Poor quality\n",
      "Sentiment Report: \n",
      "\n",
      "Negative\n",
      "------------------------------\n",
      "The app is cool. I'll rate it 9/10 easy\n",
      "Sentiment Report: .\n",
      "\n",
      "Positive\n",
      "------------------------------\n",
      "I absolutely love Instagram it's the GOAT in social media sites\n",
      "Sentiment Report: \n",
      "\n",
      "Positive\n",
      "------------------------------\n",
      "Very useless application for the phone\n",
      "Sentiment Report: \n",
      "\n",
      "Negative\n",
      "------------------------------\n",
      "Latest update causes freezing and keeps switching between dark and light mode.\n",
      "Sentiment Report: \n",
      "\n",
      "Negative\n",
      "------------------------------\n",
      "cannot get the new updates the music feature\n",
      "Sentiment Report: \n",
      "\n",
      "Neutral\n",
      "------------------------------\n",
      "Keeps reverting to light mode even after I've set app settings to dark mode. Have to close out app to fix. I'm tired of seeing an ad first every single time I open the app. I want to see the people I follow, not ads. Hate new photo sharing format in chats. Annoying how it's displayed as a cluster when sending more than 1 at a time.\n",
      "Sentiment Report: \n",
      "\n",
      "Negative\n",
      "------------------------------\n",
      "I hate this app, it is horrible\n",
      "Sentiment Report: \n",
      "\n",
      "Negative\n",
      "------------------------------\n",
      "Most important aap please viral my video\n",
      "Sentiment Report: \n",
      "\n",
      "Neutral\n",
      "------------------------------\n",
      "Idiot app, update is only not working\n",
      "Sentiment Report: \n",
      "\n",
      "Negative\n",
      "------------------------------\n",
      "I can't do swipe chat or react on DMs ... I have reinstalled many times and even report to Instagram still there is no update\n",
      "Sentiment Report: \n",
      "\n",
      "Negative\n",
      "------------------------------\n",
      "Trying to post multiple photos is a hassle. I'll center a photo and move on to the next one, but when I go back to look at all the photos (to see if they're centered cotrectly), the photos have moved and there is a black vertical space on the left side. It's gotten to the point where I no longer want to post photos on a photo sharing app.\n",
      "Sentiment Report: \n",
      "\n",
      "Negative\n",
      "------------------------------\n",
      "It's not working sometimes it doesn't open and in between closes tooooo. Please check and correct it.\n",
      "Sentiment Report: \n",
      "\n",
      "Negative\n",
      "------------------------------\n",
      "This app is bad .because this page is not refresing\n",
      "Sentiment Report: \n",
      "\n",
      "Negative\n",
      "------------------------------\n",
      "Very nice\n",
      "Sentiment Report: !\n",
      "\n",
      "Positive\n",
      "------------------------------\n",
      "App won't even open. Tried uninstalling and reinstalling and didn't help.\n",
      "Sentiment Report: \n",
      "\n",
      "Negative\n",
      "------------------------------\n",
      "I lost my phone and I can't remember my password.please help me in recovering my account.i need to change my password and change my number.Please help me.i am trying to see if other option is there for recovery in instagram but no other option is there.I am really disappointed from Instagram.They should have an option for recovering an account who have lost phone\n",
      "Sentiment Report:  and password.\n",
      "\n",
      "Negative\n",
      "------------------------------\n",
      "Good experience\n",
      "Sentiment Report: \n",
      "\n",
      "Positive\n",
      "------------------------------\n",
      "It's good for the past year. But recently I have this bug problem it's that whenever I have 3 accounts and specifically try to log in my other accounts it keeps buffering, I press cancel it just closes the app and the worst part it says refresh but it's the same old thing. Pls fix this bug pls I have to uninstall again when I have to Log out to my other account\n",
      "Sentiment Report: \n",
      "\n",
      "Negative\n",
      "------------------------------\n",
      "The dark mode keeps turning off every time I leave the app every since this new update\n",
      "Sentiment Report: .\n",
      "\n",
      "Negative\n",
      "------------------------------\n",
      "Good and intersting\n",
      "Sentiment Report: \n",
      "\n",
      "Positive\n",
      "------------------------------\n"
     ]
    }
   ],
   "source": [
    "for key, review_dictionary in review_dictionary.items():\n",
    "    prompt = create_prompt(review_dictionary)\n",
    "    response= openai.Completion.create(engine=\"text-davinci-003\",\n",
    "                                         prompt=prompt,\n",
    "                                         max_tokens=250,\n",
    "                                         temperature=0,\n",
    "                                         )\n",
    "    print(review_dictionary)\n",
    "    print(\"Sentiment Report: \"+response[\"choices\"][0][\"text\"])\n",
    "    print(\"-\"*30)"
   ]
  },
  {
   "cell_type": "markdown",
   "metadata": {},
   "source": [
    "Conclusions: In this case I can compare the results with the ratings to see how accurate the response is. Looks solid!"
   ]
  },
  {
   "cell_type": "markdown",
   "metadata": {},
   "source": [
    "# 2 : NLP request to get data from SQL database\n",
    "\n",
    "About the dataset:\n",
    "csv file with fake sales data for years 2019-2021. Columns: Order number, Year, Sales $, Quantity, City \n",
    "\n",
    "GPT Model: text davinci"
   ]
  },
  {
   "cell_type": "markdown",
   "metadata": {},
   "source": [
    "STEP 1: read csv file as pandas data frame and explore "
   ]
  },
  {
   "cell_type": "code",
   "execution_count": 3,
   "metadata": {},
   "outputs": [
    {
     "data": {
      "text/html": [
       "<div>\n",
       "<style scoped>\n",
       "    .dataframe tbody tr th:only-of-type {\n",
       "        vertical-align: middle;\n",
       "    }\n",
       "\n",
       "    .dataframe tbody tr th {\n",
       "        vertical-align: top;\n",
       "    }\n",
       "\n",
       "    .dataframe thead th {\n",
       "        text-align: right;\n",
       "    }\n",
       "</style>\n",
       "<table border=\"1\" class=\"dataframe\">\n",
       "  <thead>\n",
       "    <tr style=\"text-align: right;\">\n",
       "      <th></th>\n",
       "      <th>ORDERNUMBER</th>\n",
       "      <th>QUANTITYORDERED</th>\n",
       "      <th>SALES</th>\n",
       "      <th>YEAR_ID</th>\n",
       "      <th>CITY</th>\n",
       "    </tr>\n",
       "  </thead>\n",
       "  <tbody>\n",
       "    <tr>\n",
       "      <th>0</th>\n",
       "      <td>10107</td>\n",
       "      <td>30</td>\n",
       "      <td>2871.00</td>\n",
       "      <td>2019</td>\n",
       "      <td>NYC</td>\n",
       "    </tr>\n",
       "    <tr>\n",
       "      <th>1</th>\n",
       "      <td>10121</td>\n",
       "      <td>34</td>\n",
       "      <td>2765.90</td>\n",
       "      <td>2019</td>\n",
       "      <td>Reims</td>\n",
       "    </tr>\n",
       "    <tr>\n",
       "      <th>2</th>\n",
       "      <td>10134</td>\n",
       "      <td>41</td>\n",
       "      <td>3884.34</td>\n",
       "      <td>2019</td>\n",
       "      <td>Paris</td>\n",
       "    </tr>\n",
       "    <tr>\n",
       "      <th>3</th>\n",
       "      <td>10145</td>\n",
       "      <td>45</td>\n",
       "      <td>3746.70</td>\n",
       "      <td>2019</td>\n",
       "      <td>Pasadena</td>\n",
       "    </tr>\n",
       "    <tr>\n",
       "      <th>4</th>\n",
       "      <td>10159</td>\n",
       "      <td>49</td>\n",
       "      <td>5205.27</td>\n",
       "      <td>2019</td>\n",
       "      <td>San Francisco</td>\n",
       "    </tr>\n",
       "  </tbody>\n",
       "</table>\n",
       "</div>"
      ],
      "text/plain": [
       "   ORDERNUMBER  QUANTITYORDERED    SALES  YEAR_ID           CITY\n",
       "0        10107               30  2871.00     2019            NYC\n",
       "1        10121               34  2765.90     2019          Reims\n",
       "2        10134               41  3884.34     2019          Paris\n",
       "3        10145               45  3746.70     2019       Pasadena\n",
       "4        10159               49  5205.27     2019  San Francisco"
      ]
     },
     "execution_count": 3,
     "metadata": {},
     "output_type": "execute_result"
    }
   ],
   "source": [
    "df_sales = pd.read_csv('sales_data.csv')\n",
    "df_sales.head()"
   ]
  },
  {
   "cell_type": "code",
   "execution_count": 4,
   "metadata": {},
   "outputs": [
    {
     "data": {
      "text/plain": [
       "99"
      ]
     },
     "execution_count": 4,
     "metadata": {},
     "output_type": "execute_result"
    }
   ],
   "source": [
    "len(df_sales) #it has 99 data points"
   ]
  },
  {
   "cell_type": "code",
   "execution_count": 5,
   "metadata": {},
   "outputs": [
    {
     "data": {
      "text/plain": [
       "CITY\n",
       "Madrid           41374.26\n",
       "San Francisco    39620.36\n",
       "NYC              24328.80\n",
       "Paris            22350.95\n",
       "Pasadena         21791.93\n",
       "Name: SALES, dtype: float64"
      ]
     },
     "execution_count": 5,
     "metadata": {},
     "output_type": "execute_result"
    }
   ],
   "source": [
    "#Get top 5 cities in terms of sales. The Idea is get the same data using SQL and Opens AI API\n",
    "df_sales.groupby(\"CITY\").sum()[\"SALES\"].sort_values(ascending=False)[0:5]"
   ]
  },
  {
   "cell_type": "markdown",
   "metadata": {},
   "source": [
    "STEP 2: SQL Database Set-up - Create temporary conection with SQL and push data"
   ]
  },
  {
   "cell_type": "code",
   "execution_count": 6,
   "metadata": {},
   "outputs": [],
   "source": [
    "#SQL Database Set-up\n",
    "\n",
    "#pip install SQLAlchemy==2.0\n",
    "from sqlalchemy import create_engine\n",
    "from sqlalchemy import text"
   ]
  },
  {
   "cell_type": "code",
   "execution_count": 7,
   "metadata": {},
   "outputs": [
    {
     "name": "stdout",
     "output_type": "stream",
     "text": [
      "2023-06-19 17:26:38,878 INFO sqlalchemy.engine.Engine BEGIN (implicit)\n",
      "2023-06-19 17:26:38,887 INFO sqlalchemy.engine.Engine PRAGMA main.table_info(\"Sales\")\n",
      "2023-06-19 17:26:38,892 INFO sqlalchemy.engine.Engine [raw sql] ()\n",
      "2023-06-19 17:26:38,899 INFO sqlalchemy.engine.Engine PRAGMA temp.table_info(\"Sales\")\n",
      "2023-06-19 17:26:38,903 INFO sqlalchemy.engine.Engine [raw sql] ()\n",
      "2023-06-19 17:26:38,910 INFO sqlalchemy.engine.Engine ROLLBACK\n",
      "2023-06-19 17:26:38,929 INFO sqlalchemy.engine.Engine BEGIN (implicit)\n",
      "2023-06-19 17:26:38,955 INFO sqlalchemy.engine.Engine \n",
      "CREATE TABLE \"Sales\" (\n",
      "\t\"index\" BIGINT, \n",
      "\t\"ORDERNUMBER\" BIGINT, \n",
      "\t\"QUANTITYORDERED\" BIGINT, \n",
      "\t\"SALES\" FLOAT, \n",
      "\t\"YEAR_ID\" BIGINT, \n",
      "\t\"CITY\" TEXT\n",
      ")\n",
      "\n",
      "\n",
      "2023-06-19 17:26:38,964 INFO sqlalchemy.engine.Engine [no key 0.00979s] ()\n",
      "2023-06-19 17:26:38,969 INFO sqlalchemy.engine.Engine CREATE INDEX \"ix_Sales_index\" ON \"Sales\" (\"index\")\n",
      "2023-06-19 17:26:38,973 INFO sqlalchemy.engine.Engine [no key 0.00411s] ()\n",
      "2023-06-19 17:26:38,988 INFO sqlalchemy.engine.Engine COMMIT\n",
      "2023-06-19 17:26:39,009 INFO sqlalchemy.engine.Engine BEGIN (implicit)\n",
      "2023-06-19 17:26:39,016 INFO sqlalchemy.engine.Engine INSERT INTO \"Sales\" (\"index\", \"ORDERNUMBER\", \"QUANTITYORDERED\", \"SALES\", \"YEAR_ID\", \"CITY\") VALUES (?, ?, ?, ?, ?, ?)\n",
      "2023-06-19 17:26:39,017 INFO sqlalchemy.engine.Engine [generated in 0.00248s] [(0, 10107, 30, 2871.0, 2019, 'NYC'), (1, 10121, 34, 2765.9, 2019, 'Reims'), (2, 10134, 41, 3884.34, 2019, 'Paris'), (3, 10145, 45, 3746.7, 2019, 'Pasadena'), (4, 10159, 49, 5205.27, 2019, 'San Francisco'), (5, 10121, 50, 8284.0, 2019, 'Reims'), (6, 10134, 20, 2711.2, 2019, 'Paris'), (7, 10145, 49, 8339.8, 2019, 'Pasadena')  ... displaying 10 of 99 total bound parameter sets ...  (97, 10114, 31, 4305.28, 2021, 'Paris'), (98, 10126, 22, 3347.74, 2021, 'Madrid')]\n",
      "2023-06-19 17:26:39,020 INFO sqlalchemy.engine.Engine COMMIT\n",
      "2023-06-19 17:26:39,025 INFO sqlalchemy.engine.Engine BEGIN (implicit)\n",
      "2023-06-19 17:26:39,026 INFO sqlalchemy.engine.Engine SELECT name FROM sqlite_master WHERE type='table' AND name NOT LIKE 'sqlite~_%' ESCAPE '~' ORDER BY name\n",
      "2023-06-19 17:26:39,030 INFO sqlalchemy.engine.Engine [raw sql] ()\n",
      "2023-06-19 17:26:39,039 INFO sqlalchemy.engine.Engine ROLLBACK\n"
     ]
    }
   ],
   "source": [
    "#set up temporary db in ram\n",
    "temp_db = create_engine('sqlite:///:memory:', echo=True)\n",
    "\n",
    "#push data\n",
    "data = df_sales.to_sql(name='Sales',con=temp_db) #push data"
   ]
  },
  {
   "cell_type": "code",
   "execution_count": 8,
   "metadata": {},
   "outputs": [
    {
     "name": "stdout",
     "output_type": "stream",
     "text": [
      "2023-06-19 17:26:44,006 INFO sqlalchemy.engine.Engine BEGIN (implicit)\n",
      "2023-06-19 17:26:44,010 INFO sqlalchemy.engine.Engine Select CITY, SALES from Sales LIMIT 5\n",
      "2023-06-19 17:26:44,012 INFO sqlalchemy.engine.Engine [generated in 0.00578s] ()\n",
      "2023-06-19 17:26:44,014 INFO sqlalchemy.engine.Engine ROLLBACK\n"
     ]
    }
   ],
   "source": [
    "#lets try the connection to SQL with a  query\n",
    "with temp_db.connect() as conn:\n",
    "    result = conn.execute(text(\"Select CITY, SALES from Sales LIMIT 5\"))"
   ]
  },
  {
   "cell_type": "code",
   "execution_count": 9,
   "metadata": {},
   "outputs": [
    {
     "data": {
      "text/plain": [
       "[('NYC', 2871.0),\n",
       " ('Reims', 2765.9),\n",
       " ('Paris', 3884.34),\n",
       " ('Pasadena', 3746.7),\n",
       " ('San Francisco', 5205.27)]"
      ]
     },
     "execution_count": 9,
     "metadata": {},
     "output_type": "execute_result"
    }
   ],
   "source": [
    "result.all()"
   ]
  },
  {
   "cell_type": "markdown",
   "metadata": {},
   "source": [
    "STEP 3: Prompt: I need to create 2 prompts and combine them\n",
    "\n",
    " 1. table definition for Open AI\n",
    " 2. query request or input (what data from the table do I want to see?)"
   ]
  },
  {
   "cell_type": "code",
   "execution_count": 21,
   "metadata": {},
   "outputs": [],
   "source": [
    "# Prompt 1:Table prompt\n",
    "\n",
    "def table_prompt(df_sales):\n",
    "   \n",
    "\n",
    "    prompt = '''### sqlite SQL table, with its properties:\n",
    "#\n",
    "# Sales({})\n",
    "#\n",
    "'''.format(\",\".join(str(x) for x in df_sales.columns))#here it is returning the name of columns as string \n",
    "    \n",
    "    return prompt"
   ]
  },
  {
   "cell_type": "code",
   "execution_count": 22,
   "metadata": {},
   "outputs": [
    {
     "data": {
      "text/plain": [
       "'### sqlite SQL table, with its properties:\\n#\\n# Sales(ORDERNUMBER,QUANTITYORDERED,SALES,YEAR_ID,CITY)\\n#\\n'"
      ]
     },
     "execution_count": 22,
     "metadata": {},
     "output_type": "execute_result"
    }
   ],
   "source": [
    "table_prompt(df_sales)"
   ]
  },
  {
   "cell_type": "code",
   "execution_count": 30,
   "metadata": {},
   "outputs": [],
   "source": [
    "#Prompt 2: user request\n",
    "def text_promp():\n",
    "    text_request= input(\"Enter the info you want: \")\n",
    "    return text_request"
   ]
  },
  {
   "cell_type": "code",
   "execution_count": 31,
   "metadata": {},
   "outputs": [
    {
     "name": "stdout",
     "output_type": "stream",
     "text": [
      "Enter the info you want: top 5 sales per city\n"
     ]
    },
    {
     "data": {
      "text/plain": [
       "'top 5 sales per city'"
      ]
     },
     "execution_count": 31,
     "metadata": {},
     "output_type": "execute_result"
    }
   ],
   "source": [
    "text_promp()"
   ]
  },
  {
   "cell_type": "code",
   "execution_count": 32,
   "metadata": {},
   "outputs": [],
   "source": [
    "#Combination\n",
    "def combine_prompts(df_sales, query_prompt):\n",
    "    definition = table_prompt(df_sales) \n",
    "    query_init_string = f\"### A query to answer: {query_prompt}\\nSELECT\" #SELECT as sql \n",
    "    return definition+query_init_string"
   ]
  },
  {
   "cell_type": "markdown",
   "metadata": {},
   "source": [
    "STEP 4: API call and SQL request"
   ]
  },
  {
   "cell_type": "code",
   "execution_count": 16,
   "metadata": {},
   "outputs": [],
   "source": [
    "response = openai.Completion.create(\n",
    "  model=\"text-davinci-003\",\n",
    "  prompt=combine_prompts(df_sales, text_request),\n",
    "  temperature=0,#most probable\n",
    "  max_tokens=150,\n",
    "  top_p=1.0,#defaut\n",
    "  frequency_penalty=0.0,#it is code so it can be repeated\n",
    "  presence_penalty=0.0,\n",
    "  stop=[\"#\", \";\"] #stop tokens but it varies \n",
    ")"
   ]
  },
  {
   "cell_type": "code",
   "execution_count": 17,
   "metadata": {},
   "outputs": [
    {
     "data": {
      "text/plain": [
       "' CITY, SUM(SALES) AS TOTAL_SALES\\nFROM Sales\\nGROUP BY CITY\\nORDER BY TOTAL_SALES DESC\\nLIMIT 5'"
      ]
     },
     "execution_count": 17,
     "metadata": {},
     "output_type": "execute_result"
    }
   ],
   "source": [
    "#Response: SQL query to get the data I asked for. But I still need teh SELECT statement\n",
    "response[\"choices\"][0][\"text\"]"
   ]
  },
  {
   "cell_type": "code",
   "execution_count": 34,
   "metadata": {},
   "outputs": [],
   "source": [
    "#Add the SELECT statement to response\n",
    "def response_with_select(response):\n",
    "    query = response[\"choices\"][0][\"text\"]\n",
    "    if query.startswith(\" \"):\n",
    "        query = \"Select\"+ query\n",
    "    return query"
   ]
  },
  {
   "cell_type": "code",
   "execution_count": 35,
   "metadata": {},
   "outputs": [
    {
     "data": {
      "text/plain": [
       "'Select CITY, SUM(SALES) AS TOTAL_SALES\\nFROM Sales\\nGROUP BY CITY\\nORDER BY TOTAL_SALES DESC\\nLIMIT 5'"
      ]
     },
     "execution_count": 35,
     "metadata": {},
     "output_type": "execute_result"
    }
   ],
   "source": [
    "response_with_select(response)"
   ]
  },
  {
   "cell_type": "markdown",
   "metadata": {},
   "source": [
    "STEP 5: Get numerical results"
   ]
  },
  {
   "cell_type": "code",
   "execution_count": 36,
   "metadata": {},
   "outputs": [
    {
     "name": "stdout",
     "output_type": "stream",
     "text": [
      "2023-06-19 17:33:12,736 INFO sqlalchemy.engine.Engine BEGIN (implicit)\n",
      "2023-06-19 17:33:12,739 INFO sqlalchemy.engine.Engine Select CITY, SUM(SALES) AS TOTAL_SALES\n",
      "FROM Sales\n",
      "GROUP BY CITY\n",
      "ORDER BY TOTAL_SALES DESC\n",
      "LIMIT 5\n",
      "2023-06-19 17:33:12,742 INFO sqlalchemy.engine.Engine [cached since 298.6s ago] ()\n",
      "2023-06-19 17:33:12,746 INFO sqlalchemy.engine.Engine ROLLBACK\n"
     ]
    }
   ],
   "source": [
    "#I send a request just like the begining but this time instead of writting the query request, OPENAI completes it\n",
    "with temp_db.connect() as conn:\n",
    "    result = conn.execute(text(response_with_select(response)))"
   ]
  },
  {
   "cell_type": "code",
   "execution_count": 37,
   "metadata": {},
   "outputs": [
    {
     "data": {
      "text/plain": [
       "[('Madrid', 41374.26),\n",
       " ('San Francisco', 39620.35999999999),\n",
       " ('NYC', 24328.800000000003),\n",
       " ('Paris', 22350.95),\n",
       " ('Pasadena', 21791.93)]"
      ]
     },
     "execution_count": 37,
     "metadata": {},
     "output_type": "execute_result"
    }
   ],
   "source": [
    "result.all()"
   ]
  },
  {
   "cell_type": "markdown",
   "metadata": {},
   "source": [
    "Conclusions: Query results are the same as the ones of the OpenAI model"
   ]
  },
  {
   "cell_type": "markdown",
   "metadata": {},
   "source": [
    "# 3 : Extract news from newspaper websites and get a summary in english explaining whats the news about\n",
    "\n",
    "The idea is to extract news summaries in English from online newspapers worldwide. The user requests a newspaper, then the tool scrapes the website in the original language and sends it to open AI to translate and summarize. In this case, I will work with mexican news paper El Universal"
   ]
  },
  {
   "cell_type": "markdown",
   "metadata": {},
   "source": [
    "STEP1:  URL and scrape newspaper websites "
   ]
  },
  {
   "cell_type": "code",
   "execution_count": 3,
   "metadata": {},
   "outputs": [],
   "source": [
    "#Now we need to scrape the news site\n",
    "import requests \n",
    "import bs4 "
   ]
  },
  {
   "cell_type": "code",
   "execution_count": 23,
   "metadata": {},
   "outputs": [
    {
     "data": {
      "text/plain": [
       "'https://www.eluniversal.com.mx/'"
      ]
     },
     "execution_count": 23,
     "metadata": {},
     "output_type": "execute_result"
    }
   ],
   "source": [
    "#call the url of the country you are interested in\n",
    "url=\"https://www.eluniversal.com.mx/\"\n",
    "url"
   ]
  },
  {
   "cell_type": "code",
   "execution_count": 24,
   "metadata": {},
   "outputs": [],
   "source": [
    "#Parsing HTML\n",
    "result = requests.get(url)\n",
    "soup= bs4.BeautifulSoup(result.text,\"lxml\") #rerieves all the text but I want the tag of the headlines"
   ]
  },
  {
   "cell_type": "markdown",
   "metadata": {},
   "source": [
    "To get the class of headlines I can open the website in Chrome - right click on one headline- inspect- get the class: class=\"cards-story-opener-fr__title\""
   ]
  },
  {
   "cell_type": "code",
   "execution_count": 30,
   "metadata": {},
   "outputs": [],
   "source": [
    "#it works well if I storage country, link and tag \n",
    "newspapers = {\"Mexico\":('https://www.eluniversal.com.mx/','.cards-story-opener-fr__title')}\n"
   ]
  },
  {
   "cell_type": "markdown",
   "metadata": {},
   "source": [
    "STEP 2: Create prompt that requests translation and summary"
   ]
  },
  {
   "cell_type": "code",
   "execution_count": 36,
   "metadata": {},
   "outputs": [],
   "source": [
    "#I can summarize step 1 in a function\n",
    "\n",
    "def create_prompt():\n",
    "    #Country\n",
    "    country= input(\"What country are interested in for news?\")\n",
    "    \n",
    "    #get the tag and url from previous disctionary\n",
    "\n",
    "    url,tag = newspapers[country]\n",
    "\n",
    "    \n",
    "    #scrape the web\n",
    "    results = requests.get(url)\n",
    "    soup= bs4.BeautifulSoup(results.text,\"lxml\")\n",
    "    \n",
    "    #Use tag to get only the headlines\n",
    "    headlines = ''\n",
    "    for item in soup.select(tag)[:3]:\n",
    "        headlines += item.getText()+'\\n'\n",
    "    \n",
    "    #prompt\n",
    "    prompt = \"Detect the language of the news headlines below, then translate a summary of the headlines to English in a conversational tone:\\n\"\n",
    "\n",
    "    return prompt + headlines"
   ]
  },
  {
   "cell_type": "code",
   "execution_count": 37,
   "metadata": {},
   "outputs": [
    {
     "name": "stdout",
     "output_type": "stream",
     "text": [
      "What country are interested in for news?Mexico\n"
     ]
    }
   ],
   "source": [
    "prompt=create_prompt()"
   ]
  },
  {
   "cell_type": "code",
   "execution_count": 38,
   "metadata": {},
   "outputs": [
    {
     "name": "stdout",
     "output_type": "stream",
     "text": [
      "Detect the language of the news headlines below, then translate a summary of the headlines to English in a conversational tone:\n",
      "AMLO pide que no haya cargadas para corcholatas en celebración del 1 de julio en el Zócalo\n",
      "Avanza en EU ley que permite expropiar bienes de cárteles mexicanos\n",
      "AMLO privilegia a militares y marinos en retiro para puestos clave en su gobierno\n",
      "\n"
     ]
    }
   ],
   "source": [
    "print (prompt)"
   ]
  },
  {
   "cell_type": "markdown",
   "metadata": {},
   "source": [
    "STEP 3: API Call "
   ]
  },
  {
   "cell_type": "code",
   "execution_count": 39,
   "metadata": {},
   "outputs": [],
   "source": [
    "response = openai.Completion.create(\n",
    "  model=\"text-davinci-003\",\n",
    "  prompt=prompt,\n",
    "  temperature=0.1, #not necessary 0 because it is conversational prompt\n",
    "  max_tokens=200,\n",
    "  top_p=1.0\n",
    ")"
   ]
  },
  {
   "cell_type": "code",
   "execution_count": 40,
   "metadata": {},
   "outputs": [
    {
     "name": "stdout",
     "output_type": "stream",
     "text": [
      "\n",
      "Language: Spanish\n",
      "\n",
      "The first headline is about Mexican President AMLO asking that there be no violence during the celebration of July 1st in the Zócalo. The second headline is about a law advancing in the US that would allow for the expropriation of assets from Mexican cartels. The third headline is about AMLO favoring retired military and naval personnel for key positions in his government.\n"
     ]
    }
   ],
   "source": [
    "print(response['choices'][0]['text'])"
   ]
  },
  {
   "cell_type": "markdown",
   "metadata": {},
   "source": [
    "# 4: Fine-tunning example"
   ]
  }
 ],
 "metadata": {
  "kernelspec": {
   "display_name": "Python 3",
   "language": "python",
   "name": "python3"
  },
  "language_info": {
   "codemirror_mode": {
    "name": "ipython",
    "version": 3
   },
   "file_extension": ".py",
   "mimetype": "text/x-python",
   "name": "python",
   "nbconvert_exporter": "python",
   "pygments_lexer": "ipython3",
   "version": "3.8.3"
  }
 },
 "nbformat": 4,
 "nbformat_minor": 4
}
